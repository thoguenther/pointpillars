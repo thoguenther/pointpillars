{
 "cells": [
  {
   "cell_type": "code",
   "execution_count": 1,
   "metadata": {},
   "outputs": [],
   "source": [
    "import os\n",
    "from torch.utils.data import Dataset\n",
    "from torchvision.io import read_image\n",
    "import vcd.core as core\n",
    "import pandas as pd"
   ]
  },
  {
   "cell_type": "code",
   "execution_count": null,
   "metadata": {},
   "outputs": [],
   "source": [
    "def load_label_frames_list(label_path='./2_station_berliner_tor_2.1/2_station_berliner_tor_2.1_labels.json'):\n",
    "    # Create empty vcd object\n",
    "    myVCD = core.VCD()\n",
    "    # Load a VCD file\n",
    "    myVCD.load_from_file(label_path)"
   ]
  },
  {
   "cell_type": "code",
   "execution_count": null,
   "metadata": {},
   "outputs": [],
   "source": [
    "lidar_path = './2_station_berliner_tor_2.1/lidar/'\n",
    "frames_list = myVCD.data['openlabel']['frames']"
   ]
  },
  {
   "cell_type": "code",
   "execution_count": null,
   "metadata": {},
   "outputs": [],
   "source": [
    "def generate_train_df (lidar_path, frames_list):\n",
    "    anno_list = []    \n",
    "    lidar_files = sorted(os.listdir(lidar_path))\n",
    "    for lidar_file, frame in zip(lidar_files, frames_list):\n",
    "        for objects in frames_list[frame]['objects']:\n",
    "            object_data = frames_list[frame]['objects'][objects]['object_data']\n",
    "            if 'cuboid' in object_data:\n",
    "                cuboid = frames_list[frame]['objects'][objects]['object_data']['cuboid'][0]['val']\n",
    "                classes = frames_list[frame]['objects'][objects]['object_data']['cuboid'][0]['name']\n",
    "                anno = {}\n",
    "                if lidar_file.startswith(str(frame)):\n",
    "                    anno['filename'] = lidar_file\n",
    "                anno['class'] = classes\n",
    "                anno['cen_bb_x'] = cuboid[0]\n",
    "                anno['cen_bb_y'] = cuboid[1]\n",
    "                anno['cen_bb_z'] = cuboid[2]\n",
    "                anno['vec_x'] = cuboid[3]\n",
    "                anno['vec_y'] = cuboid[4]\n",
    "                anno['vec_z'] = cuboid[5]\n",
    "                anno['rota'] = cuboid[6]\n",
    "                anno['bb_x'] = cuboid[7]\n",
    "                anno['bb_y'] = cuboid[8]\n",
    "                anno['bb_z'] = cuboid[9]\n",
    "                anno_list.append(anno)\n",
    "    return pd.DataFrame(anno_list)\n",
    "        \n",
    "generate_train_df(lidar_path, frames_list)"
   ]
  },
  {
   "cell_type": "code",
   "execution_count": 9,
   "metadata": {},
   "outputs": [],
   "source": [
    "class LidarDataset(Dataset):\n",
    "    def __init__(self, dir = \"lidar\", path = \"/vol/coro/automatic_train_operation/OSDaR23/\", transform=None, target_transform=None):\n",
    "        # Labels\n",
    "        # self.img_labels = pd.read_csv(annotations_file)\n",
    "\n",
    "        self.path = path\n",
    "        self.dir = dir\n",
    "        self.transform = transform\n",
    "        self.target_transform = target_transform\n",
    "\n",
    "    def data_search(self):\n",
    "        path_list = []\n",
    "        for station in os.listdir(self.path):\n",
    "            path_final = os.path.join(self.path, station, self.dir)\n",
    "            station_w_ending = station + \".json\"\n",
    "            label_frames = os.path.join(self.path, station, station_w_ending)\n",
    "        return path_final, label_frames\n",
    "    \n",
    "    # label_path='./2_station_berliner_tor_2.1/2_station_berliner_tor_2.1_labels.json'\n",
    "\n",
    "    \n",
    "\n",
    "            # myVCD = core.VCD()\n",
    "            # # Load a VCD file\n",
    "            # myVCD.load_from_file(label_path)\n",
    "\n",
    "        # # Image\n",
    "        # path_list = []\n",
    "        # for station in os.listdir(self.path):\n",
    "        #     path_final = os.path.join(self.path, station, self.img_dir)\n",
    "\n",
    "        #     for filename in os.listdir(path_final):\n",
    "        #         path_filename = os.path.join(path_final, filename)\n",
    "\n",
    "        #         # # checking if it is a file\n",
    "        #         # if os.path.isfile(path_filename):\n",
    "        #         #     print(path_filename)\n",
    "        #         path_list.append(path_filename)\n",
    "\n",
    "\n",
    "        # return path_list\n",
    "\n",
    "    def __len__(self):\n",
    "        return len(self.img_labels)\n",
    "\n",
    "    def __getitem__(self, idx):\n",
    "        img_path = os.path.join(self.img_dir, self.img_labels.iloc[idx, 0])\n",
    "        image = read_image(img_path)\n",
    "        label = self.img_labels.iloc[idx, 1]\n",
    "        if self.transform:\n",
    "            image = self.transform(image)\n",
    "        if self.target_transform:\n",
    "            label = self.target_transform(label)\n",
    "        return image, label"
   ]
  },
  {
   "cell_type": "code",
   "execution_count": 10,
   "metadata": {},
   "outputs": [
    {
     "data": {
      "text/plain": [
       "('/vol/coro/automatic_train_operation/OSDaR23/08_station_altona_8.3/lidar',\n",
       " '/vol/coro/automatic_train_operation/OSDaR23/08_station_altona_8.3/08_station_altona_8.3.json')"
      ]
     },
     "execution_count": 10,
     "metadata": {},
     "output_type": "execute_result"
    }
   ],
   "source": [
    "a = LidarDataset()\n",
    "a.data_search()"
   ]
  },
  {
   "cell_type": "code",
   "execution_count": null,
   "metadata": {},
   "outputs": [],
   "source": []
  }
 ],
 "metadata": {
  "kernelspec": {
   "display_name": "Python 3",
   "language": "python",
   "name": "python3"
  },
  "language_info": {
   "codemirror_mode": {
    "name": "ipython",
    "version": 3
   },
   "file_extension": ".py",
   "mimetype": "text/x-python",
   "name": "python",
   "nbconvert_exporter": "python",
   "pygments_lexer": "ipython3",
   "version": "3.12.3"
  }
 },
 "nbformat": 4,
 "nbformat_minor": 2
}
