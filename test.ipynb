{
 "cells": [
  {
   "cell_type": "code",
   "execution_count": 3,
   "metadata": {},
   "outputs": [],
   "source": [
    "import os\n",
    "from torch.utils.data import Dataset\n",
    "from torchvision.io import read_image"
   ]
  },
  {
   "cell_type": "code",
   "execution_count": 8,
   "metadata": {},
   "outputs": [],
   "source": [
    "class LidarDataset(Dataset):\n",
    "    def __init__(self, dir = \"lidar\", path = \"/vol/coro/automatic_train_operation/OSDaR23/\", transform=None, target_transform=None):\n",
    "        # Labels\n",
    "        # self.img_labels = pd.read_csv(annotations_file)\n",
    "\n",
    "        self.path = path\n",
    "        self.dir = dir\n",
    "        self.transform = transform\n",
    "        self.target_transform = target_transform\n",
    "\n",
    "    def folder_search(self):\n",
    "        path_list = []\n",
    "        for station in os.listdir(self.path):\n",
    "            path_final = os.path.join(self.path, station, self.dir)\n",
    "        return path_final\n",
    "\n",
    "        # # Image\n",
    "        # path_list = []\n",
    "        # for station in os.listdir(self.path):\n",
    "        #     path_final = os.path.join(self.path, station, self.img_dir)\n",
    "\n",
    "        #     for filename in os.listdir(path_final):\n",
    "        #         path_filename = os.path.join(path_final, filename)\n",
    "\n",
    "        #         # # checking if it is a file\n",
    "        #         # if os.path.isfile(path_filename):\n",
    "        #         #     print(path_filename)\n",
    "        #         path_list.append(path_filename)\n",
    "\n",
    "\n",
    "        # return path_list\n",
    "\n",
    "    def __len__(self):\n",
    "        return len(self.img_labels)\n",
    "\n",
    "    def __getitem__(self, idx):\n",
    "        img_path = os.path.join(self.img_dir, self.img_labels.iloc[idx, 0])\n",
    "        image = read_image(img_path)\n",
    "        label = self.img_labels.iloc[idx, 1]\n",
    "        if self.transform:\n",
    "            image = self.transform(image)\n",
    "        if self.target_transform:\n",
    "            label = self.target_transform(label)\n",
    "        return image, label"
   ]
  },
  {
   "cell_type": "code",
   "execution_count": 11,
   "metadata": {},
   "outputs": [
    {
     "data": {
      "text/plain": [
       "'/vol/coro/automatic_train_operation/OSDaR23/08_station_altona_8.3/lidar'"
      ]
     },
     "execution_count": 11,
     "metadata": {},
     "output_type": "execute_result"
    }
   ],
   "source": [
    "a = LidarDataset()\n",
    "a.folder_search()"
   ]
  },
  {
   "cell_type": "code",
   "execution_count": null,
   "metadata": {},
   "outputs": [],
   "source": []
  }
 ],
 "metadata": {
  "kernelspec": {
   "display_name": "Python 3",
   "language": "python",
   "name": "python3"
  },
  "language_info": {
   "codemirror_mode": {
    "name": "ipython",
    "version": 3
   },
   "file_extension": ".py",
   "mimetype": "text/x-python",
   "name": "python",
   "nbconvert_exporter": "python",
   "pygments_lexer": "ipython3",
   "version": "3.12.3"
  }
 },
 "nbformat": 4,
 "nbformat_minor": 2
}
